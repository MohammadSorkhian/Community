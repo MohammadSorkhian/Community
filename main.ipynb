{
 "cells": [
  {
   "cell_type": "code",
   "execution_count": 5,
   "metadata": {},
   "outputs": [
    {
     "name": "stdout",
     "output_type": "stream",
     "text": [
      "Requirement already satisfied: pandas in c:\\users\\moham\\appdata\\local\\programs\\python\\python39\\lib\\site-packages (1.3.4)\n",
      "Requirement already satisfied: python-dateutil>=2.7.3 in c:\\users\\moham\\appdata\\local\\programs\\python\\python39\\lib\\site-packages (from pandas) (2.8.2)\n",
      "Requirement already satisfied: pytz>=2017.3 in c:\\users\\moham\\appdata\\local\\programs\\python\\python39\\lib\\site-packages (from pandas) (2021.3)\n",
      "Requirement already satisfied: numpy>=1.17.3 in c:\\users\\moham\\appdata\\local\\programs\\python\\python39\\lib\\site-packages (from pandas) (1.21.4)\n",
      "Requirement already satisfied: six>=1.5 in c:\\users\\moham\\appdata\\local\\programs\\python\\python39\\lib\\site-packages (from python-dateutil>=2.7.3->pandas) (1.16.0)\n"
     ]
    },
    {
     "name": "stderr",
     "output_type": "stream",
     "text": [
      "WARNING: Ignoring invalid distribution -atplotlib (c:\\users\\moham\\appdata\\local\\programs\\python\\python39\\lib\\site-packages)\n",
      "WARNING: Ignoring invalid distribution -atplotlib (c:\\users\\moham\\appdata\\local\\programs\\python\\python39\\lib\\site-packages)\n",
      "WARNING: Ignoring invalid distribution -atplotlib (c:\\users\\moham\\appdata\\local\\programs\\python\\python39\\lib\\site-packages)\n",
      "WARNING: Ignoring invalid distribution -atplotlib (c:\\users\\moham\\appdata\\local\\programs\\python\\python39\\lib\\site-packages)\n",
      "WARNING: Ignoring invalid distribution -atplotlib (c:\\users\\moham\\appdata\\local\\programs\\python\\python39\\lib\\site-packages)\n",
      "WARNING: Ignoring invalid distribution -atplotlib (c:\\users\\moham\\appdata\\local\\programs\\python\\python39\\lib\\site-packages)\n",
      "WARNING: You are using pip version 21.2.4; however, version 21.3.1 is available.\n",
      "You should consider upgrading via the 'C:\\Users\\moham\\AppData\\Local\\Programs\\Python\\Python39\\python.exe -m pip install --upgrade pip' command.\n"
     ]
    },
    {
     "name": "stdout",
     "output_type": "stream",
     "text": [
      "Requirement already satisfied: wget in c:\\users\\moham\\appdata\\local\\programs\\python\\python39\\lib\\site-packages (3.2)\n"
     ]
    },
    {
     "name": "stderr",
     "output_type": "stream",
     "text": [
      "WARNING: Ignoring invalid distribution -atplotlib (c:\\users\\moham\\appdata\\local\\programs\\python\\python39\\lib\\site-packages)\n",
      "WARNING: Ignoring invalid distribution -atplotlib (c:\\users\\moham\\appdata\\local\\programs\\python\\python39\\lib\\site-packages)\n",
      "WARNING: Ignoring invalid distribution -atplotlib (c:\\users\\moham\\appdata\\local\\programs\\python\\python39\\lib\\site-packages)\n",
      "WARNING: Ignoring invalid distribution -atplotlib (c:\\users\\moham\\appdata\\local\\programs\\python\\python39\\lib\\site-packages)\n",
      "WARNING: Ignoring invalid distribution -atplotlib (c:\\users\\moham\\appdata\\local\\programs\\python\\python39\\lib\\site-packages)\n",
      "WARNING: Ignoring invalid distribution -atplotlib (c:\\users\\moham\\appdata\\local\\programs\\python\\python39\\lib\\site-packages)\n",
      "WARNING: You are using pip version 21.2.4; however, version 21.3.1 is available.\n",
      "You should consider upgrading via the 'C:\\Users\\moham\\AppData\\Local\\Programs\\Python\\Python39\\python.exe -m pip install --upgrade pip' command.\n"
     ]
    }
   ],
   "source": [
    "!pip install pandas\n",
    "!pip install wget\n",
    "import pandas as pd\n",
    "import numpy as np\n",
    "from zipfile import ZipFile\n",
    "import wget\n",
    "import glob\n",
    "\n",
    "if not (glob.glob(\"98-401-X2016061_English_CSV_data.csv\")):\n",
    "  # download the openData\n",
    "  url = \"https://www12.statcan.gc.ca/census-recensement/2016/dp-pd/prof/details/download-telecharger/comp/GetFile.cfm?Lang=E&FILETYPE=CSV&GEONO=061\"\n",
    "  wget.download(url, '98-401-X2016061_eng_CSV.zip')\n",
    "  # unzip the zip file\n",
    "  with ZipFile('98-401-X2016061_eng_CSV.zip', 'r') as zipObj:\n",
    "    zipObj.extractall()\n",
    "\n",
    "rawData = pd.read_csv(\"98-401-X2016061_English_CSV_data.csv\")\n",
    "rawData = rawData[~rawData[\"GEO_NAME\"].str.contains(\"Division\")]"
   ]
  },
  {
   "cell_type": "code",
   "execution_count": 6,
   "metadata": {},
   "outputs": [],
   "source": [
    "# selecting required fileds(which are in rows)\n",
    "memberIDs = [\n",
    "    1,    # Population, 2016\n",
    "    22,   # 55 to 59 years\n",
    "    23,   # 60 to 64 years\t\n",
    "    24,   # 65 years and over\n",
    "    58,   # Average household size\n",
    "    73,   # Average size of census families\n",
    "    674,  # Average total income in 2015 among recipients\n",
    "    680,  # Average government transfers in 2015 among recipients ($)    \n",
    "    690,  # Government transfers (%)\n",
    "    ]\n",
    "data = rawData[rawData[\"Member ID: Profile of Census Subdivisions (2247)\"].isin(memberIDs)]\n",
    "data = data.pivot(index=\"GEO_NAME\", columns=\"DIM: Profile of Census Subdivisions (2247)\", values=\"Dim: Sex (3): Member ID: [1]: Total - Sex\").reset_index()\n",
    "data = data.rename_axis(None, axis=1).reset_index(drop=True)\n",
    "\n",
    "for col in data.columns[1:]:\n",
    "    data[col] = pd.to_numeric(data[f\"{col}\"], errors='coerce')\n",
    "\n",
    "data[\"over_55\"] = data[\"55 to 59 years\"] + data[\"60 to 64 years\"] + data[\"65 years and over\"]\n",
    "data = data.drop([\"55 to 59 years\",\"60 to 64 years\",\"65 years and over\"], axis=1)\n",
    "# We eliminated 87 communities that their population was less than 300 and ended up to 193\n",
    "data = data.dropna().reset_index().drop(\"index\", axis=1)\n",
    "data[\"percentage_over55\"] = data[\"over_55\"]/data[\"Population, 2016\"]\n",
    "data\n",
    "\n",
    "placentia_PercOver55 = float(data[data.GEO_NAME == \"Placentia\"][\"percentage_over55\"])\n",
    "placentia_population = float(data[data.GEO_NAME == \"Placentia\"][\"Population, 2016\"])\n",
    "placentia_avgIncome = float(data[data.GEO_NAME == \"Placentia\"][\"Average total income in 2015 among recipients ($)\"])\n",
    "placentia_household = float(data[data.GEO_NAME == \"Placentia\"][\"Average household size\"])\n",
    "\n",
    "std_age = 0.05\n",
    "std_population = 0.1\n",
    "std_income = 0.1\n",
    "std_household = 0.05\n",
    "\n",
    "temp = data.copy()\n",
    "\n",
    "temp = temp[((placentia_PercOver55-std_age) <= temp[\"percentage_over55\"]) & \n",
    "    (temp[\"percentage_over55\"] <= (placentia_PercOver55+std_age))]\n",
    "\n",
    "temp = temp[((placentia_population-placentia_population*std_population) <= temp[\"Population, 2016\"]) & \n",
    "    (temp[\"Population, 2016\"] <= (placentia_population+placentia_population*std_population))]\n",
    "\n",
    "temp = temp[((placentia_avgIncome-placentia_avgIncome*std_income) <= temp[\"Average total income in 2015 among recipients ($)\"]) & \n",
    "    (temp[\"Average total income in 2015 among recipients ($)\"] <= (placentia_avgIncome+placentia_avgIncome*std_income))]\n",
    "\n",
    "temp = temp[((placentia_household-placentia_household*std_household) <= temp[\"Average household size\"]) & \n",
    "    (temp[\"Average household size\"] <= (placentia_household+placentia_household*std_household))]\n",
    "\n",
    "temp = temp[[\"GEO_NAME\", \"Population, 2016\", \"percentage_over55\", \"Average total income in 2015 among recipients ($)\", \"Average household size\"]]\n",
    "temp = temp.rename(columns={\"GEO_NAME\":\"Community\", \"Population, 2016\":\"Population\", \"Average total income in 2015 among recipients ($)\": \"Avg income 2015\"})\n",
    "_ = temp.reset_index(drop=True)\n",
    "\n",
    "# data.to_excel(\"del.xlsx\")"
   ]
  },
  {
   "cell_type": "code",
   "execution_count": 7,
   "metadata": {},
   "outputs": [
    {
     "data": {
      "application/vnd.jupyter.widget-view+json": {
       "model_id": "8748c8c2f90e486c94eabaefc6ed5020",
       "version_major": 2,
       "version_minor": 0
      },
      "text/plain": [
       "interactive(children=(IntSlider(value=5, description='Age STD', step=5, style=SliderStyle(description_width='i…"
      ]
     },
     "metadata": {},
     "output_type": "display_data"
    }
   ],
   "source": [
    "import ipywidgets as widgets\n",
    "from ipywidgets import interact, interact_manual, HBox, Label, IntSlider\n",
    "\n",
    "std_age = 0.05\n",
    "std_population = 0.1\n",
    "std_income = 0.1\n",
    "std_household = 0.05\n",
    "min = 0\n",
    "max = 100\n",
    "step = 5\n",
    "\n",
    "style = {'description_width': 'initial'}\n",
    "\n",
    "@interact(\n",
    "    age_STD=widgets.IntSlider(value=std_age*100, min=min, max=max, step=step, description='Age STD',style=style),\n",
    "    population_STD=widgets.IntSlider(value=std_population*100, min=min, max=max, step=step, description='Population STD',style=style),\n",
    "    income_STD=widgets.IntSlider(value=std_income*100, min=min, max=max, step=step, description='Income STD',style=style),\n",
    "    household_STD=widgets.IntSlider(value=std_household*100, min=min, max=max, step=step, description='Household STD',style=style)\n",
    "    )\n",
    "def community(age_STD,population_STD,income_STD,household_STD):\n",
    "\n",
    "    temp = data.copy()\n",
    "\n",
    "    temp = temp[((placentia_PercOver55-age_STD/100) <= temp[\"percentage_over55\"]) & \n",
    "        (temp[\"percentage_over55\"] <= (placentia_PercOver55+age_STD/100))]\n",
    "\n",
    "    temp = temp[((placentia_population-placentia_population*population_STD/100) <= temp[\"Population, 2016\"]) & \n",
    "        (temp[\"Population, 2016\"] <= (placentia_population+placentia_population*population_STD/100))]\n",
    "\n",
    "    temp = temp[((placentia_avgIncome-placentia_avgIncome*income_STD/100) <= temp[\"Average total income in 2015 among recipients ($)\"]) & \n",
    "        (temp[\"Average total income in 2015 among recipients ($)\"] <= (placentia_avgIncome+placentia_avgIncome*income_STD/100))]\n",
    "\n",
    "    temp = temp[((placentia_household-placentia_household*household_STD/100) <= temp[\"Average household size\"]) & \n",
    "        (temp[\"Average household size\"] <= (placentia_household+placentia_household*household_STD/100))]\n",
    "\n",
    "    temp = temp[[\"GEO_NAME\", \"Population, 2016\", \"percentage_over55\", \"Average total income in 2015 among recipients ($)\", \"Average household size\"]]\n",
    "    temp = temp.rename(columns={\"GEO_NAME\":\"Community\", \"Population, 2016\":\"Population\", \"Average total income in 2015 among recipients ($)\": \"Avg income 2015\"})\n",
    "    temp = temp.reset_index(drop=True)\n",
    "    print(temp.to_string())\n",
    "    "
   ]
  }
 ],
 "metadata": {
  "interpreter": {
   "hash": "639f361ad657fd45530bdd3e74f62afebc8edc35ba6ab7eef1042ba440bc9585"
  },
  "kernelspec": {
   "display_name": "Python 3.9.8 64-bit",
   "language": "python",
   "name": "python3"
  },
  "language_info": {
   "codemirror_mode": {
    "name": "ipython",
    "version": 3
   },
   "file_extension": ".py",
   "mimetype": "text/x-python",
   "name": "python",
   "nbconvert_exporter": "python",
   "pygments_lexer": "ipython3",
   "version": "3.9.8"
  },
  "orig_nbformat": 4
 },
 "nbformat": 4,
 "nbformat_minor": 2
}
